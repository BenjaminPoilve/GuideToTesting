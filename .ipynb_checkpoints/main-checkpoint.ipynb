{
 "cells": [
  {
   "cell_type": "markdown",
   "metadata": {},
   "source": [
    "# A/B testing or Multi-armed bandit? \n",
    "In this notebook, I will try to elucidate a long standing question of mine. Should I choose A/B testing or multi-armed bandit?\n",
    "To do this, we will use python to simulate random client, and see for which case each algorithm performs the best!\n",
    "\n",
    "## Assumptions\n",
    "\n",
    "* There is a clear mesure of conversion or not/conversion.\n",
    "* Each client is an independant random variable\n",
    "* There is an underlying \"true\" conversion rate, which is static (this is probably the strongest assumption)\n",
    "\n",
    "\n",
    "\n",
    "## Modelisation\n",
    "\n",
    "Following the previous assumption, we can model each client as following a dual or n [bernoulli distribution](https://en.wikipedia.org/wiki/Bernoulli_distribution), for the number of page variant. \n",
    "\n",
    "### Algorithm definition\n",
    "\n",
    "We define each algorithm as follows:\n",
    "\n",
    "#### [A/B testing](https://en.wikipedia.org/wiki/A/B_testing)\n",
    "\n",
    "* The user is randomly presented a variant of the page\n",
    "* The action of the user is recorder to determine wether the page converts or not\n",
    "* As soon as the result is statistically significant (p<5%), the users are only presented the most efficient variant\n",
    "\n",
    "#### [Multi-armed bandit](https://en.wikipedia.org/wiki/A/B_testing)\n",
    "\n",
    "Here we choose the UCB1 algorithm. This is an easy to implement algorithm with good performances. Plus I like the optimistic ideology of this algorithm. You can read an excellent article about it [there](https://jeremykun.com/2013/10/28/optimism-in-the-face-of-uncertainty-the-ucb1-algorithm/)\n"
   ]
  }
 ],
 "metadata": {
  "kernelspec": {
   "display_name": "Python 3",
   "language": "python",
   "name": "python3"
  },
  "language_info": {
   "codemirror_mode": {
    "name": "ipython",
    "version": 3
   },
   "file_extension": ".py",
   "mimetype": "text/x-python",
   "name": "python",
   "nbconvert_exporter": "python",
   "pygments_lexer": "ipython3",
   "version": "3.6.4"
  }
 },
 "nbformat": 4,
 "nbformat_minor": 2
}
