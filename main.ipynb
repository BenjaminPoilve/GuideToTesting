{
 "cells": [
  {
   "cell_type": "markdown",
   "metadata": {},
   "source": [
    "# A/B testing or Multi-armed bandit? \n",
    "In this notebook, I will try to elucidate a long standing question of mine. Should I choose A/B testing or multi-armed bandit?\n",
    "To do this, we will use python to simulate random client, and see for which case each algorithm performs the best!\n",
    "\n",
    "## Assumptions\n",
    "\n",
    "* There is a clear mesure of conversion or not/conversion.\n",
    "* Each client is an independant random variable\n",
    "* There is an underlying \"true\" conversion rate, which is static (this is probably the strongest assumption)\n",
    "\n",
    "\n",
    "\n",
    "## Modelisation\n",
    "\n",
    "Following the previous assumption, we can model each client as following a dual or n [bernoulli distribution](https://en.wikipedia.org/wiki/Bernoulli_distribution), for the number of page variant. \n",
    "\n",
    "### Algorithm definition\n",
    "\n",
    "We define each algorithm as follows:\n",
    "\n",
    "#### [A/B testing](https://en.wikipedia.org/wiki/A/B_testing)\n",
    "\n",
    "* The user is randomly presented a variant of the page\n",
    "* The action of the user is recorder to determine wether the page converts or not\n",
    "* As soon as the result is statistically significant (p<5%), the users are only presented the most efficient variant\n",
    "\n",
    "#### [Multi-armed bandit](https://en.wikipedia.org/wiki/A/B_testing)\n",
    "\n",
    "Here we choose the UCB1 algorithm. This is an easy to implement algorithm with good performances. Plus I like the optimistic ideology of this algorithm. You can read an excellent article about it [there](https://jeremykun.com/2013/10/28/optimism-in-the-face-of-uncertainty-the-ucb1-algorithm/)\n",
    "\n",
    "* First play all the option far an base estimate of the mean xi (for us x1 and x2)\n",
    "* At each round n (n=1,2,3,...), in the past the option i having been played ni times, select the option that minimise xi+sqrt(2*log(n/ni)).\n",
    "* Update xi and ni according to results\n",
    "\n",
    "### Result definition\n",
    "\n",
    "We want to know how each algorithm performs (ie which has the best global conversion):\n",
    "\n",
    "* Regarding the delta of conversion between options (ie option 1 converts at 0.5+delta/2, and option 2 at 0.5-delta/2)\n",
    "* Regarding the population (ie at the time the test stops)\n",
    "\n"
   ]
  },
  {
   "cell_type": "code",
   "execution_count": 98,
   "metadata": {},
   "outputs": [
    {
     "data": {
      "image/png": "[encoded data removed]",
      "text/plain": [
       "<matplotlib.figure.Figure at 0x1a10b2e128>"
      ]
     },
     "metadata": {},
     "output_type": "display_data"
    }
   ],
   "source": [
    "%matplotlib inline\n",
    "from scipy.stats import bernoulli\n",
    "import random\n",
    "import scipy.stats\n",
    "import matplotlib.pyplot as plt\n",
    "\n",
    "def test_choice(choice, probability_array):\n",
    "    return bernoulli.rvs(probability_array[choice],size=1)[0]\n",
    "\n",
    "def A_B_test(probability_array,lenght):\n",
    "    test_accumulator=[0] *len(probability_array)\n",
    "    result_accumulator=[0] *len(probability_array)\n",
    "    bound_accumulator=[[0,1]] *len(probability_array)\n",
    "    mean_accumulator=[0] *len(probability_array)\n",
    "    test_data=[]\n",
    "    for i in range(0,lenght):\n",
    "        topbounds=[i[1] for i in bound_accumulator]\n",
    "        index_max = max(range(len(topbounds)), key=topbounds.__getitem__)\n",
    "        low_value=bound_accumulator[index_max][0]\n",
    "        del topbounds[index_max]\n",
    "        if low_value>max(topbounds):\n",
    "            choice=index_max\n",
    "        else:\n",
    "            choice=random.randint(0,len(probability_array)-1)\n",
    "        test_accumulator[choice]+=1\n",
    "        result=test_choice(choice,probability_array)\n",
    "        result_accumulator[choice]+=result\n",
    "        mean_accumulator[choice]=result_accumulator[choice]/test_accumulator[choice]\n",
    "        if(result_accumulator[choice]>0):\n",
    "            lo = scipy.stats.beta.ppf(0.025, result_accumulator[choice], test_accumulator[choice]-result_accumulator[choice])\n",
    "            hi = scipy.stats.beta.ppf(0.975, result_accumulator[choice], test_accumulator[choice]-result_accumulator[choice])\n",
    "            bound_accumulator[choice]=[lo,hi]\n",
    "        test_data.append([mean_accumulator[:],bound_accumulator[:]])\n",
    "    return test_data\n",
    "    \n",
    "lenght=10000\n",
    "proba=[0.2,0.21]\n",
    "retrun = A_B_test(proba,lenght)\n",
    "for j in range(len(proba)):\n",
    "    plt.plot([i[0][j] for i in retrun])\n",
    "    plt.fill_between(range(0,lenght),[i[1][j][0] for i in retrun] , [i[1][j][1] for i in retrun], alpha=0.3)\n",
    "\n",
    "plt.show()"
   ]
  },
  {
   "cell_type": "code",
   "execution_count": null,
   "metadata": {},
   "outputs": [],
   "source": []
  },
  {
   "cell_type": "code",
   "execution_count": null,
   "metadata": {},
   "outputs": [],
   "source": []
  }
 ],
 "metadata": {
  "kernelspec": {
   "display_name": "Python 3",
   "language": "python",
   "name": "python3"
  },
  "language_info": {
   "codemirror_mode": {
    "name": "ipython",
    "version": 3
   },
   "file_extension": ".py",
   "mimetype": "text/x-python",
   "name": "python",
   "nbconvert_exporter": "python",
   "pygments_lexer": "ipython3",
   "version": "3.6.4"
  }
 },
 "nbformat": 4,
 "nbformat_minor": 2
}
